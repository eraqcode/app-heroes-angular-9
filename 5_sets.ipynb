{
  "nbformat": 4,
  "nbformat_minor": 0,
  "metadata": {
    "colab": {
      "name": "5.-sets.ipynb",
      "provenance": [],
      "authorship_tag": "ABX9TyM/dt+ZK7SajZLWpnq3T4qj",
      "include_colab_link": true
    },
    "kernelspec": {
      "name": "python3",
      "display_name": "Python 3"
    },
    "language_info": {
      "name": "python"
    }
  },
  "cells": [
    {
      "cell_type": "markdown",
      "metadata": {
        "id": "view-in-github",
        "colab_type": "text"
      },
      "source": [
        "<a href=\"https://colab.research.google.com/github/eraqcode/appHeroes/blob/master/5_sets.ipynb\" target=\"_parent\"><img src=\"https://colab.research.google.com/assets/colab-badge.svg\" alt=\"Open In Colab\"/></a>"
      ]
    },
    {
      "cell_type": "markdown",
      "metadata": {
        "id": "4jBScCiiFEj8"
      },
      "source": [
        "# **Sets**\n",
        "\n",
        "A set is a collection which is both unordered and unindexed.\n",
        "\n",
        "We can use set for store some items in only variable\n"
      ]
    },
    {
      "cell_type": "markdown",
      "metadata": {
        "id": "jg8_sip-HFmk"
      },
      "source": [
        "- ## Create Set"
      ]
    },
    {
      "cell_type": "code",
      "metadata": {
        "id": "JuNT6MiqFAH6"
      },
      "source": [
        "even_numbers = { 2, 4, 6, 7, 19 }"
      ],
      "execution_count": 8,
      "outputs": []
    },
    {
      "cell_type": "markdown",
      "metadata": {
        "id": "DbIShFWAIS7_"
      },
      "source": [
        "- ## Access to Set"
      ]
    },
    {
      "cell_type": "code",
      "metadata": {
        "colab": {
          "base_uri": "https://localhost:8080/"
        },
        "id": "IrGV5ID4H8Aw",
        "outputId": "c9200b27-3f85-4346-9822-7f387251e9cd"
      },
      "source": [
        "for x in even_numbers:\n",
        "\n",
        "  print(x)"
      ],
      "execution_count": 9,
      "outputs": [
        {
          "output_type": "stream",
          "text": [
            "2\n",
            "4\n",
            "6\n",
            "7\n",
            "19\n"
          ],
          "name": "stdout"
        }
      ]
    },
    {
      "cell_type": "markdown",
      "metadata": {
        "id": "PwDh2Q_PIgkB"
      },
      "source": [
        "- ## Add Items"
      ]
    },
    {
      "cell_type": "code",
      "metadata": {
        "colab": {
          "base_uri": "https://localhost:8080/"
        },
        "id": "2lCpimkFIbbz",
        "outputId": "05f0a65f-86f0-4a6a-db2b-332fa295d0f8"
      },
      "source": [
        "even_numbers.add(14)\n",
        "\n",
        "even_numbers.update({16, 18})\n",
        "\n",
        "for x in even_numbers:\n",
        "\n",
        "  print(x)"
      ],
      "execution_count": 10,
      "outputs": [
        {
          "output_type": "stream",
          "text": [
            "2\n",
            "4\n",
            "6\n",
            "7\n",
            "14\n",
            "16\n",
            "18\n",
            "19\n"
          ],
          "name": "stdout"
        }
      ]
    },
    {
      "cell_type": "code",
      "metadata": {
        "id": "4haU6tkXIuL5"
      },
      "source": [
        "fruits_name_set = {'apple', 'pear', 'pineapple', 'banana', 'orange'}"
      ],
      "execution_count": 6,
      "outputs": []
    },
    {
      "cell_type": "markdown",
      "metadata": {
        "id": "ba0jLqOvJIp6"
      },
      "source": [
        "- ## Remove Set Items"
      ]
    },
    {
      "cell_type": "code",
      "metadata": {
        "colab": {
          "base_uri": "https://localhost:8080/"
        },
        "id": "7qcv9q5-JHdE",
        "outputId": "adfa98b9-2e8d-492a-8220-067e2a772fd1"
      },
      "source": [
        "fruits_name_set.remove('pear')\n",
        "\n",
        "fruits_name_set.discard('banana')\n",
        "\n",
        "for fruits in fruits_name_set:\n",
        "\n",
        "  print(fruits)"
      ],
      "execution_count": 7,
      "outputs": [
        {
          "output_type": "stream",
          "text": [
            "pineapple\n",
            "apple\n",
            "orange\n"
          ],
          "name": "stdout"
        }
      ]
    },
    {
      "cell_type": "markdown",
      "metadata": {
        "id": "E_fiNf0dKkWu"
      },
      "source": [
        "- ## Set Operations\n",
        "\n",
        "- Union\n",
        "\n",
        "- Intesection\n",
        "\n",
        "- Symetric Difference"
      ]
    },
    {
      "cell_type": "code",
      "metadata": {
        "colab": {
          "base_uri": "https://localhost:8080/"
        },
        "id": "4E4TL9pqJZeD",
        "outputId": "4d99b4e3-2a17-4d65-8963-41f0ef0c48b0"
      },
      "source": [
        "odd_numbers = {3, 5, 7, 9, 11}\n",
        "\n",
        "numbers = even_numbers.union( odd_numbers )\n",
        "\n",
        "for number in numbers:\n",
        "\n",
        "  print( number )\n"
      ],
      "execution_count": 12,
      "outputs": [
        {
          "output_type": "stream",
          "text": [
            "2\n",
            "3\n",
            "4\n",
            "5\n",
            "6\n",
            "7\n",
            "9\n",
            "11\n",
            "14\n",
            "16\n",
            "18\n",
            "19\n"
          ],
          "name": "stdout"
        }
      ]
    },
    {
      "cell_type": "code",
      "metadata": {
        "colab": {
          "base_uri": "https://localhost:8080/"
        },
        "id": "9uP2PQQQL0pN",
        "outputId": "7e2aaba1-f4db-495d-bc82-4fd64ab702e8"
      },
      "source": [
        "intersection_numbers = numbers.intersection( odd_numbers )\n",
        "\n",
        "for number in intersection_numbers:\n",
        "\n",
        "  print( number )"
      ],
      "execution_count": 13,
      "outputs": [
        {
          "output_type": "stream",
          "text": [
            "3\n",
            "5\n",
            "7\n",
            "9\n",
            "11\n"
          ],
          "name": "stdout"
        }
      ]
    },
    {
      "cell_type": "code",
      "metadata": {
        "colab": {
          "base_uri": "https://localhost:8080/"
        },
        "id": "fo-2jOQUMNvf",
        "outputId": "27077fbd-b6df-44b2-d42d-10da03d7017c"
      },
      "source": [
        "symetric_numbers = numbers.symmetric_difference( odd_numbers )\n",
        "\n",
        "for y in symetric_numbers:\n",
        "\n",
        "  print( y )"
      ],
      "execution_count": 22,
      "outputs": [
        {
          "output_type": "stream",
          "text": [
            "7\n"
          ],
          "name": "stdout"
        }
      ]
    },
    {
      "cell_type": "code",
      "metadata": {
        "id": "dEGFuTpUMzeZ"
      },
      "source": [
        ""
      ],
      "execution_count": null,
      "outputs": []
    }
  ]
}